{
 "cells": [
  {
   "cell_type": "code",
   "execution_count": 1,
   "metadata": {
    "collapsed": false
   },
   "outputs": [],
   "source": [
    "import pandas as pd\n",
    "import numpy as np\n",
    "from ipywidgets import interact, interactive, IntSlider, Layout, interact_manual, fixed\n",
    "import ipywidgets as widgets\n",
    "from IPython.display import display"
   ]
  },
  {
   "cell_type": "code",
   "execution_count": 9,
   "metadata": {
    "collapsed": false
   },
   "outputs": [
    {
     "data": {
      "text/plain": [
       "Variable                              object\n",
       "VariableGroup_dcp                     object\n",
       "Type_dcp                              object\n",
       "X_ID                                  object\n",
       "X_DT_dcp                      datetime64[ns]\n",
       "PredOutcomeBusinessAsUsual           float64\n",
       "Contribution                         float64\n",
       "Spend                                float64\n",
       "ActualOutcome                        float64\n",
       "Scaled Decomps                       float64\n",
       "CS_dcp                                object\n",
       "CS1_dcp                               object\n",
       "Year_dcp                              object\n",
       "Month_dcp                             object\n",
       "Quarter_dcp                           object\n",
       "dtype: object"
      ]
     },
     "execution_count": 9,
     "metadata": {},
     "output_type": "execute_result"
    }
   ],
   "source": [
    "data_type = {'Variable':'object','VariableGroup_dcp':'object','Type_dcp':'object','X_ID':'object','PredOutcomeBusinessAsUsual':'float64','Contribution':'float64','Spend':'float64','ActualOutcome':'float64','Scaled Decomps':'float64','CS_dcp':'object','CS1_dcp':'object','Year_dcp':'object','Month_dcp':'object','Quarter_dcp':'object'}\n",
    "decomps = pd.read_csv(r'./decomps.csv', dtype=data_type)\n",
    "decomps['X_DT_dcp'] = pd.to_datetime(decomps['X_DT_dcp'])\n",
    "decomps['VariableGroup_dcp'].fillna('NA', inplace=True)\n",
    "# decomps.head()\n",
    "type(decomps['X_DT_dcp'][0])\n",
    "decomps.dtypes"
   ]
  },
  {
   "cell_type": "code",
   "execution_count": 3,
   "metadata": {
    "collapsed": false
   },
   "outputs": [],
   "source": [
    "def create_pivot_table(df, Type_dcp, VariableGroup_dcp, CS_dcp, CS1_dcp, X_DT_dcp_start, X_DT_dcp_end, Year_dcp, Quarter_dcp, Month_dcp):\n",
    "    columns = ['ActualOutcome', 'PredOutcomeBusinessAsUsual', 'Spend', 'Contribution']\n",
    "    \n",
    "    mask = (df['Type_dcp'] == Type_dcp) & (df['VariableGroup_dcp'] == VariableGroup_dcp) & (df['CS_dcp'] == CS_dcp) & \\\n",
    "            (df['CS1_dcp'] == CS1_dcp) & (df['X_DT_dcp'] == X_DT_dcp) & (df['Year_dcp'] == Year_dcp) & \\\n",
    "            (df['Quarter_dcp'] == Quarter_dcp) & (df['Month_dcp'] == Month_dcp)      \n",
    "    df = df.loc[mask, :]\n",
    "    pivot = pd.pivot_table(df, index='Variable', values=columns, aggfunc=np.sum)\n",
    "    pivot.sort_index(inplace=True)\n",
    "    if len(pivot) == 0:\n",
    "        print('invalid Date combination!!')\n",
    "        return \n",
    "    return pivot\n",
    "\n",
    "# pivot = create_pivot_table(decomps, 'AC')\n",
    "# pivot.head()\n",
    "\n",
    "def create_widget_buttons(df):\n",
    "    Type_dcp = tuple(df['CS_dcp'].unique())\n",
    "    VariableGroup_dcp = tuple(set(df['VariableGroup_dcp']))\n",
    "    \n",
    "    CS_dcp = tuple(set(df['CS_dcp']))\n",
    "    CS1_dcp = tuple(set(df['CS1_dcp']))\n",
    "    \n",
    "    X_DT_dcp = tuple(set(df['X_DT_dcp']))\n",
    "    Year_dcp = tuple(set(df['Year_dcp']))\n",
    "    Year_dcp = tuple(map(str, Year_dcp))\n",
    "    Quarter_dcp = tuple(set(df['Quarter_dcp']))\n",
    "    Month_dcp = tuple(set(df['Month_dcp']))\n",
    "    Month_dcp = tuple(map(str, Month_dcp))\n",
    "    \n",
    "    return Type_dcp, VariableGroup_dcp, CS_dcp, CS1_dcp, X_DT_dcp, Year_dcp, Quarter_dcp, Month_dcp"
   ]
  },
  {
   "cell_type": "code",
   "execution_count": 10,
   "metadata": {
    "collapsed": false
   },
   "outputs": [
    {
     "ename": "AttributeError",
     "evalue": "'numpy.datetime64' object has no attribute 'strftime'",
     "output_type": "error",
     "traceback": [
      "\u001b[0;31m---------------------------------------------------------------------------\u001b[0m",
      "\u001b[0;31mAttributeError\u001b[0m                            Traceback (most recent call last)",
      "\u001b[0;32m<ipython-input-10-e3c413fd691a>\u001b[0m in \u001b[0;36m<module>\u001b[0;34m()\u001b[0m\n\u001b[1;32m      1\u001b[0m \u001b[0mdates\u001b[0m \u001b[1;33m=\u001b[0m \u001b[0mdecomps\u001b[0m\u001b[1;33m[\u001b[0m\u001b[1;34m'X_DT_dcp'\u001b[0m\u001b[1;33m]\u001b[0m\u001b[1;33m.\u001b[0m\u001b[0munique\u001b[0m\u001b[1;33m(\u001b[0m\u001b[1;33m)\u001b[0m\u001b[1;33m\u001b[0m\u001b[0m\n\u001b[0;32m----> 2\u001b[0;31m \u001b[0mdates\u001b[0m\u001b[1;33m[\u001b[0m\u001b[1;36m0\u001b[0m\u001b[1;33m]\u001b[0m\u001b[1;33m.\u001b[0m\u001b[0mstrftime\u001b[0m\u001b[1;33m(\u001b[0m\u001b[1;34m'%A'\u001b[0m\u001b[1;33m)\u001b[0m\u001b[1;33m\u001b[0m\u001b[0m\n\u001b[0m",
      "\u001b[0;31mAttributeError\u001b[0m: 'numpy.datetime64' object has no attribute 'strftime'"
     ]
    }
   ],
   "source": [
    "dates = decomps['X_DT_dcp'].unique()\n",
    "dates[0].strftime('%A')"
   ]
  },
  {
   "cell_type": "code",
   "execution_count": 15,
   "metadata": {
    "collapsed": false
   },
   "outputs": [
    {
     "data": {
      "application/vnd.jupyter.widget-view+json": {
       "model_id": "959ac40ac4464494b66c65b994427894",
       "version_major": 2,
       "version_minor": 0
      },
      "text/plain": [
       "SelectionRangeSlider(description='Dates', index=(0, 30), layout=Layout(width='500px'), options=((' 24 Apr 2018…"
      ]
     },
     "metadata": {},
     "output_type": "display_data"
    }
   ],
   "source": [
    "import ipywidgets as widgets\n",
    "import pandas as pd\n",
    "from datetime import datetime\n",
    "\n",
    "start_date = datetime(2018, 4, 24)\n",
    "end_date = datetime(2018, 5, 24)\n",
    "\n",
    "dates = pd.date_range(start_date, end_date, freq='D')\n",
    "\n",
    "options = [(date.strftime(' %d %b %Y '), date) for date in dates]\n",
    "index = (0, len(options)-1)\n",
    "\n",
    "selection_range_slider = widgets.SelectionRangeSlider(\n",
    "    options=options,\n",
    "    index=index,\n",
    "    description='Dates',\n",
    "    orientation='horizontal',\n",
    "    layout={'width': '500px'}\n",
    ")\n",
    "\n",
    "display(selection_range_slider)"
   ]
  },
  {
   "cell_type": "code",
   "execution_count": null,
   "metadata": {
    "collapsed": false
   },
   "outputs": [],
   "source": [
    "Type_dcp, VariableGroup_dcp, CS_dcp, CS1_dcp, X_DT_dcp, Year_dcp, Quarter_dcp, Month_dcp = create_widget_buttons(decomps)\n",
    "interact(create_pivot_table, df = fixed(decomps), Type_dcp=Type_dcp, VariableGroup_dcp=VariableGroup_dcp, CS_dcp=CS_dcp, CS1_dcp=CS1_dcp, X_DT_dcp=X_DT_dcp, Year_dcp=Year_dcp, Quarter_dcp=Quarter_dcp, Month_dcp=Month_dcp)"
   ]
  },
  {
   "cell_type": "code",
   "execution_count": null,
   "metadata": {
    "collapsed": true
   },
   "outputs": [],
   "source": [
    "x = widgets.IntSlider(min=-10,max=30)\n",
    "x"
   ]
  }
 ],
 "metadata": {
  "anaconda-cloud": {},
  "kernelspec": {
   "display_name": "Python [conda root]",
   "language": "python",
   "name": "conda-root-py"
  },
  "language_info": {
   "codemirror_mode": {
    "name": "ipython",
    "version": 3
   },
   "file_extension": ".py",
   "mimetype": "text/x-python",
   "name": "python",
   "nbconvert_exporter": "python",
   "pygments_lexer": "ipython3",
   "version": "3.5.2"
  }
 },
 "nbformat": 4,
 "nbformat_minor": 1
}
